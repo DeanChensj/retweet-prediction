{
 "cells": [
  {
   "cell_type": "code",
   "execution_count": 1,
   "metadata": {},
   "outputs": [
    {
     "name": "stderr",
     "output_type": "stream",
     "text": [
      "E:\\Anaconda\\lib\\site-packages\\gensim\\utils.py:1197: UserWarning: detected Windows; aliasing chunkize to chunkize_serial\n",
      "  warnings.warn(\"detected Windows; aliasing chunkize to chunkize_serial\")\n"
     ]
    }
   ],
   "source": [
    "from collections import defaultdict\n",
    "from pymongo import MongoClient\n",
    "import re\n",
    "import pandas as pd\n",
    "import numpy as np\n",
    "from gensim.models import Word2Vec\n",
    "from datetime import datetime\n",
    "from nltk.tokenize import word_tokenize\n",
    "import gensim"
   ]
  },
  {
   "cell_type": "code",
   "execution_count": 2,
   "metadata": {
    "collapsed": true
   },
   "outputs": [],
   "source": [
    "train_df=pd.read_json(\"data/train_original_tweets_top1000.json\")"
   ]
  },
  {
   "cell_type": "code",
   "execution_count": 15,
   "metadata": {
    "collapsed": true
   },
   "outputs": [],
   "source": [
    "def get_average_word_length(words,english_punctuations):\n",
    "    word_count=0\n",
    "    word_total_length=0\n",
    "    for word in words:\n",
    "        if word not in english_punctuations:\n",
    "            word_total_length+=len(word)\n",
    "            word_count+=1\n",
    "    return word_total_length/word_count"
   ]
  },
  {
   "cell_type": "code",
   "execution_count": null,
   "metadata": {
    "collapsed": true
   },
   "outputs": [],
   "source": [
    "def generate_common_features(train_df):\n",
    "    english_punctuations = [',', '.', ':', ';', '?', '(', ')', '[', ']', '&', '!', '*', '@', '#', '$', '%']\n",
    "    train_df[\"tokenized_words\"]=train_df[\"text\"].apply(lambda x:word_tokenize(x))\n",
    "    train_df[\"hashtag_num\"]=train_df[\"entities\"].apply(lambda x:len(x[\"hashtags\"]))\n",
    "    train_df[\"link_num\"]=train_df[\"entities\"].apply(lambda x:len(x[\"urls\"]))\n",
    "    train_df[\"mention_num\"]=train_df[\"entities\"].apply(lambda x:len(x[\"user_mentions\"]))\n",
    "    train_df[\"time_of_date\"]=train_df[\"created_at\"].apply(lambda x:x.hour*24+x.minute)\n",
    "    train_df[\"len_of_tweet\"]=train_df[\"text\"].apply(lambda x:len(x))\n",
    "    train_df[\"avg_len_of_word\"]=train_df[\"tokenized_words\"].apply(lambda x:get_average_word_length(x,english_punctuations))\n"
   ]
  },
  {
   "cell_type": "code",
   "execution_count": null,
   "metadata": {
    "collapsed": true
   },
   "outputs": [],
   "source": [
    "train_df[\"over_median_percentage\"]=(train_df[\"retweet_count\"]+1)/(train_df[\"retweet_median\"]+1)\n",
    "good_tweet_df=train_df[train_df[\"over_median_percentage\"]>=10]\n",
    "len(good_tweet_df)"
   ]
  }
 ],
 "metadata": {
  "kernelspec": {
   "display_name": "Python 3",
   "language": "python",
   "name": "python3"
  },
  "language_info": {
   "codemirror_mode": {
    "name": "ipython",
    "version": 3
   },
   "file_extension": ".py",
   "mimetype": "text/x-python",
   "name": "python",
   "nbconvert_exporter": "python",
   "pygments_lexer": "ipython3",
   "version": "3.6.3"
  }
 },
 "nbformat": 4,
 "nbformat_minor": 2
}

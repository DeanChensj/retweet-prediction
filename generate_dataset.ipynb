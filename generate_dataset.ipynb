{
 "cells": [
  {
   "cell_type": "code",
   "execution_count": 1,
   "metadata": {
    "collapsed": true
   },
   "outputs": [],
   "source": [
    "from pymongo import MongoClient\n",
    "from datetime import datetime"
   ]
  },
  {
   "cell_type": "code",
   "execution_count": 28,
   "metadata": {
    "collapsed": true
   },
   "outputs": [],
   "source": [
    "import pandas as pd\n",
    "import numpy as np"
   ]
  },
  {
   "cell_type": "code",
   "execution_count": 2,
   "metadata": {
    "collapsed": true
   },
   "outputs": [],
   "source": [
    "client = MongoClient('127.0.0.1', 27017)\n",
    "db = client.top1000\n",
    "train = db.tweets"
   ]
  },
  {
   "cell_type": "code",
   "execution_count": 3,
   "metadata": {},
   "outputs": [
    {
     "data": {
      "text/plain": [
       "{'_id': ObjectId('5ad68a1b7ce0e03570faa655'),\n",
       " 'contributors': None,\n",
       " 'coordinates': None,\n",
       " 'created_at': 'Tue Apr 17 18:06:05 +0000 2018',\n",
       " 'entities': {'hashtags': [],\n",
       "  'symbols': [],\n",
       "  'urls': [{'display_url': 'twitter.com/i/web/status/9…',\n",
       "    'expanded_url': 'https://twitter.com/i/web/status/986304809862094849',\n",
       "    'indices': [116, 139],\n",
       "    'url': 'https://t.co/Dt3gUOQJhw'}],\n",
       "  'user_mentions': []},\n",
       " 'favorite_count': 1888,\n",
       " 'favorited': False,\n",
       " 'geo': None,\n",
       " 'id': 986304809862094849,\n",
       " 'id_str': '986304809862094849',\n",
       " 'in_reply_to_screen_name': None,\n",
       " 'in_reply_to_status_id': None,\n",
       " 'in_reply_to_status_id_str': None,\n",
       " 'in_reply_to_user_id': None,\n",
       " 'in_reply_to_user_id_str': None,\n",
       " 'is_quote_status': False,\n",
       " 'lang': 'en',\n",
       " 'place': None,\n",
       " 'possibly_sensitive': False,\n",
       " 'retweet_count': 500,\n",
       " 'retweeted': False,\n",
       " 'source': '<a href=\"http://www.spredfast.com\" rel=\"nofollow\">Spredfast app</a>',\n",
       " 'text': 'Our new Channel Analytics page is now live! See your Stats and Revenue combined into a single, more powerful page.… https://t.co/Dt3gUOQJhw',\n",
       " 'truncated': True,\n",
       " 'user': {'contributors_enabled': False,\n",
       "  'created_at': 'Thu Jun 02 00:01:06 +0000 2011',\n",
       "  'default_profile': False,\n",
       "  'default_profile_image': False,\n",
       "  'description': \"Twitch is the world's leading video platform and community for gamers. For site issues follow @TwitchSupport. For support visit https://t.co/pwtwZ7oMm2\",\n",
       "  'entities': {'description': {'urls': [{'display_url': 'help.twitch.tv',\n",
       "      'expanded_url': 'https://help.twitch.tv',\n",
       "      'indices': [128, 151],\n",
       "      'url': 'https://t.co/pwtwZ7oMm2'}]},\n",
       "   'url': {'urls': [{'display_url': 'twitch.tv',\n",
       "      'expanded_url': 'http://twitch.tv',\n",
       "      'indices': [0, 23],\n",
       "      'url': 'https://t.co/3OEMsaM2Ma'}]}},\n",
       "  'favourites_count': 10108,\n",
       "  'follow_request_sent': False,\n",
       "  'followers_count': 5071357,\n",
       "  'following': False,\n",
       "  'friends_count': 549,\n",
       "  'geo_enabled': True,\n",
       "  'has_extended_profile': False,\n",
       "  'id': 309366491,\n",
       "  'id_str': '309366491',\n",
       "  'is_translation_enabled': False,\n",
       "  'is_translator': False,\n",
       "  'lang': 'en',\n",
       "  'listed_count': 5984,\n",
       "  'location': 'San Francisco, CA',\n",
       "  'name': 'Twitch',\n",
       "  'notifications': False,\n",
       "  'profile_background_color': '262626',\n",
       "  'profile_background_image_url': 'http://pbs.twimg.com/profile_background_images/459045039822233600/VuW0wEwn.png',\n",
       "  'profile_background_image_url_https': 'https://pbs.twimg.com/profile_background_images/459045039822233600/VuW0wEwn.png',\n",
       "  'profile_background_tile': True,\n",
       "  'profile_banner_url': 'https://pbs.twimg.com/profile_banners/309366491/1445279789',\n",
       "  'profile_image_url': 'http://pbs.twimg.com/profile_images/979092312553750528/2ejlMVyG_normal.jpg',\n",
       "  'profile_image_url_https': 'https://pbs.twimg.com/profile_images/979092312553750528/2ejlMVyG_normal.jpg',\n",
       "  'profile_link_color': '6441A5',\n",
       "  'profile_sidebar_border_color': 'FFFFFF',\n",
       "  'profile_sidebar_fill_color': 'EFEFEF',\n",
       "  'profile_text_color': '333333',\n",
       "  'profile_use_background_image': True,\n",
       "  'protected': False,\n",
       "  'screen_name': 'Twitch',\n",
       "  'statuses_count': 18161,\n",
       "  'time_zone': 'Pacific Time (US & Canada)',\n",
       "  'translator_type': 'none',\n",
       "  'url': 'https://t.co/3OEMsaM2Ma',\n",
       "  'utc_offset': -25200,\n",
       "  'verified': True}}"
      ]
     },
     "execution_count": 3,
     "metadata": {},
     "output_type": "execute_result"
    }
   ],
   "source": [
    "train.find_one(filter={\"user.screen_name\":\"Twitch\"})"
   ]
  },
  {
   "cell_type": "code",
   "execution_count": 4,
   "metadata": {
    "collapsed": true
   },
   "outputs": [],
   "source": [
    "all_tweets=train.find(filter={\"lang\":\"en\"},projection=[\"text\",\"retweet_count\",\"user.screen_name\",\"retweeted_status\",\"created_at\",\"entities\"])"
   ]
  },
  {
   "cell_type": "code",
   "execution_count": 5,
   "metadata": {
    "collapsed": true
   },
   "outputs": [],
   "source": [
    "tweets_list=[{\"text\":x[\"text\"],\"retweet_count\":x[\"retweet_count\"],\"screen_name\":x[\"user\"][\"screen_name\"],\n",
    "                \"retweeted\":True if \"retweeted_status\" in x else False, \"created_at\":x[\"created_at\"],\"entities\":x[\"entities\"]} \n",
    "               for x in all_tweets]"
   ]
  },
  {
   "cell_type": "code",
   "execution_count": 8,
   "metadata": {},
   "outputs": [],
   "source": [
    "df=pd.DataFrame(tweets_list)"
   ]
  },
  {
   "cell_type": "code",
   "execution_count": 13,
   "metadata": {},
   "outputs": [],
   "source": [
    "df.to_json(\"all_original_tweets_top1000.json\")"
   ]
  },
  {
   "cell_type": "code",
   "execution_count": 21,
   "metadata": {
    "collapsed": true
   },
   "outputs": [],
   "source": [
    "start_time = \"Thu Apr 10 00:00:00 +0000 2018\"\n",
    "start_time = datetime.strptime(start_time, \"%a %b %d %H:%M:%S +0000 %Y\")"
   ]
  },
  {
   "cell_type": "code",
   "execution_count": 15,
   "metadata": {
    "collapsed": true
   },
   "outputs": [],
   "source": [
    "df[\"time\"]=df[\"created_at\"].apply(lambda x:datetime.strptime(x, \"%a %b %d %H:%M:%S +0000 %Y\"))"
   ]
  },
  {
   "cell_type": "code",
   "execution_count": 22,
   "metadata": {
    "collapsed": true
   },
   "outputs": [],
   "source": [
    "train_df=all_df[all_df[\"time\"]<start_time]"
   ]
  },
  {
   "cell_type": "code",
   "execution_count": 32,
   "metadata": {
    "collapsed": true
   },
   "outputs": [],
   "source": [
    "test_df=all_df[all_df[\"time\"]>=start_time]"
   ]
  },
  {
   "cell_type": "code",
   "execution_count": 33,
   "metadata": {},
   "outputs": [
    {
     "data": {
      "text/plain": [
       "True"
      ]
     },
     "execution_count": 33,
     "metadata": {},
     "output_type": "execute_result"
    }
   ],
   "source": [
    "len(train_df)+len(test_df)==len(all_df)"
   ]
  },
  {
   "cell_type": "code",
   "execution_count": 24,
   "metadata": {},
   "outputs": [
    {
     "data": {
      "text/plain": [
       "0.7854594906146993"
      ]
     },
     "execution_count": 24,
     "metadata": {},
     "output_type": "execute_result"
    }
   ],
   "source": [
    "_/len(df)"
   ]
  },
  {
   "cell_type": "code",
   "execution_count": 26,
   "metadata": {
    "collapsed": true
   },
   "outputs": [],
   "source": [
    "all_df=df\n",
    "df=train_df"
   ]
  },
  {
   "cell_type": "code",
   "execution_count": 29,
   "metadata": {},
   "outputs": [
    {
     "name": "stdout",
     "output_type": "stream",
     "text": [
      "       retweet_median\n",
      "count      884.000000\n",
      "mean      1684.278846\n",
      "std      11446.678295\n",
      "min          0.500000\n",
      "25%         35.000000\n",
      "50%        150.750000\n",
      "75%        556.500000\n",
      "max     273362.500000\n"
     ]
    }
   ],
   "source": [
    "median_s=df.groupby(\"screen_name\").apply(lambda x:np.median(x[\"retweet_count\"]))\n",
    "median_df=pd.DataFrame({\"screen_name\":median_s.index.values,\"retweet_median\":median_s.values})\n",
    "print(median_df[median_df.retweet_median>0].describe())\n",
    "merged_df=pd.merge(df,median_df,on=\"screen_name\",how=\"left\")"
   ]
  },
  {
   "cell_type": "code",
   "execution_count": 40,
   "metadata": {},
   "outputs": [],
   "source": [
    "merged_test_df=pd.merge(test_df,median_df,on=\"screen_name\",how=\"left\")"
   ]
  },
  {
   "cell_type": "code",
   "execution_count": 44,
   "metadata": {},
   "outputs": [
    {
     "data": {
      "text/plain": [
       "80218"
      ]
     },
     "execution_count": 44,
     "metadata": {},
     "output_type": "execute_result"
    }
   ],
   "source": [
    "merged_test_df.retweet_median.count()"
   ]
  },
  {
   "cell_type": "code",
   "execution_count": 48,
   "metadata": {},
   "outputs": [],
   "source": [
    "merged_test_df=merged_test_df.dropna()"
   ]
  },
  {
   "cell_type": "code",
   "execution_count": 47,
   "metadata": {},
   "outputs": [
    {
     "data": {
      "text/plain": [
       "80218"
      ]
     },
     "execution_count": 47,
     "metadata": {},
     "output_type": "execute_result"
    }
   ],
   "source": [
    "merged_test_df"
   ]
  },
  {
   "cell_type": "code",
   "execution_count": 51,
   "metadata": {},
   "outputs": [],
   "source": [
    "merged_df.to_json(\"train_original_tweets_top1000.json\")"
   ]
  },
  {
   "cell_type": "code",
   "execution_count": 52,
   "metadata": {
    "collapsed": true
   },
   "outputs": [],
   "source": [
    "merged_test_df.to_json(\"test_original_tweets_top1000.json\")"
   ]
  },
  {
   "cell_type": "code",
   "execution_count": null,
   "metadata": {
    "collapsed": true
   },
   "outputs": [],
   "source": []
  }
 ],
 "metadata": {
  "kernelspec": {
   "display_name": "Python 3",
   "language": "python",
   "name": "python3"
  },
  "language_info": {
   "codemirror_mode": {
    "name": "ipython",
    "version": 3
   },
   "file_extension": ".py",
   "mimetype": "text/x-python",
   "name": "python",
   "nbconvert_exporter": "python",
   "pygments_lexer": "ipython3",
   "version": "3.6.3"
  }
 },
 "nbformat": 4,
 "nbformat_minor": 2
}
